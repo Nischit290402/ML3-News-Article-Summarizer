{
  "nbformat": 4,
  "nbformat_minor": 0,
  "metadata": {
    "colab": {
      "name": "TASK-5 : final_output.ipynb",
      "provenance": [],
      "collapsed_sections": []
    },
    "kernelspec": {
      "name": "python3",
      "display_name": "Python 3"
    },
    "language_info": {
      "name": "python"
    },
    "accelerator": "GPU"
  },
  "cells": [
    {
      "cell_type": "code",
      "metadata": {
        "id": "Si5Esg_Cd_IP",
        "colab": {
          "base_uri": "https://localhost:8080/"
        },
        "outputId": "a4f9087f-6293-49b2-ffc4-d571bf891cff"
      },
      "source": [
        "from google.colab import drive\n",
        "drive.mount('/content/drive/', force_remount=True)"
      ],
      "execution_count": null,
      "outputs": [
        {
          "output_type": "stream",
          "text": [
            "Mounted at /content/drive/\n"
          ],
          "name": "stdout"
        }
      ]
    },
    {
      "cell_type": "code",
      "metadata": {
        "id": "C4fwZhOTeQSp"
      },
      "source": [
        "import tensorflow as tf\n",
        "import numpy as np\n",
        "import pandas as pd\n",
        "\n",
        "! pip install datasets transformers sacrebleu\n",
        "! pip install sentencepiece\n",
        "\n",
        "from transformers import AutoModelForSeq2SeqLM, DataCollatorForSeq2Seq, Seq2SeqTrainingArguments, Seq2SeqTrainer\n",
        "\n",
        "from transformers import AutoTokenizer\n",
        "\n",
        "from transformers import pipeline\n"
      ],
      "execution_count": null,
      "outputs": []
    },
    {
      "cell_type": "code",
      "metadata": {
        "id": "_bQcobEKyDXy"
      },
      "source": [
        "translator_tr_en = pipeline(\"translation\",model=\"/content/drive/MyDrive/News article summarizer/Tr_En\")\n",
        "translator_ru_en = pipeline(\"translation\",model=\"/content/drive/MyDrive/News article summarizer/Ru_En\")\n",
        "summarizer = pipeline(\"summarization\",model=\"/content/drive/MyDrive/News article summarizer/summary\")\n",
        "headline = pipeline(\"summarization\", model=\"/content/drive/MyDrive/News article summarizer/Heading\")"
      ],
      "execution_count": null,
      "outputs": []
    },
    {
      "cell_type": "code",
      "metadata": {
        "id": "ob-dDHNWLwW-"
      },
      "source": [
        "def split_string(text, sep=\" \"):\n",
        "    words = text.split()\n",
        "    res, part, others = [], words[0], words[1:]\n",
        "    for word in others:\n",
        "        if len(sep)+len(word) > 512-len(part):\n",
        "            res.append(part)\n",
        "            part = word\n",
        "        else:\n",
        "            part += sep+word\n",
        "    if part:\n",
        "        res.append(part)\n",
        "    return res"
      ],
      "execution_count": null,
      "outputs": []
    },
    {
      "cell_type": "code",
      "metadata": {
        "id": "XF23HOZETRnJ"
      },
      "source": [
        "! pip install langdetect\n",
        "from langdetect import detect\n",
        "\n",
        "input_article= input(\"Please enter an article : \")\n",
        "\n",
        "detection=detect(input_article)\n",
        "\n",
        "if detection==\"en\":\n",
        "      paragraph=input_article\n",
        "      \n",
        "      \n",
        "elif detection==\"ru\":\n",
        "      output=[]\n",
        "      a=input_article.split(\".\")\n",
        "      for i in a:\n",
        "        if len(i)<=512:\n",
        "            z= translator_ru_en(i, max_length=100000)\n",
        "            for x in z:\n",
        "                x['translation_text']=x['translation_text'].replace(\".\",\"\")\n",
        "                output.append(x['translation_text'])\n",
        "\n",
        "        else:\n",
        "            y=split_string(i)\n",
        "            output1=\"\"\n",
        "            for x in y:\n",
        "              b=translator_ru_en(x, max_length=1000000)\n",
        "              for x in b:\n",
        "                   x['translation_text']=x['translation_text'].replace(\".\",\"\")\n",
        "                   output1= output1+\" \"+x['translation_text']\n",
        "            output.append(output1)\n",
        "      output.pop()\n",
        "      paragraph=\"\"\n",
        "      for x in output:\n",
        "        paragraph= paragraph+ x +\". \"\n",
        "    \n",
        "  \n",
        "elif detection==\"tr\":\n",
        "      output=[]\n",
        "      a=input_article.split(\".\")\n",
        "      for i in a:\n",
        "        if len(i)<=512:\n",
        "            z= translator_tr_en(i, max_length=1000000)\n",
        "            for x in z:\n",
        "                 x['translation_text']=x['translation_text'].replace(\".\",\"\")\n",
        "                 output.append(x['translation_text'])\n",
        " \n",
        "        else:\n",
        "            y=split_string(i)\n",
        "            output1=\"\"\n",
        "            for x in y:\n",
        "               b=translator_tr_en(x, max_length=100000)\n",
        "               for x in b:\n",
        "                      x['translation_text']=x['translation_text'].replace(\".\",\"\")\n",
        "                      output1= output1+\" \"+x['translation_text']\n",
        "            output.append(output1)\n",
        "      output.pop()\n",
        "      paragraph=\"\"\n",
        "      for x in output:\n",
        "        paragraph= paragraph+ x +\". \"\n",
        "\n",
        "else:\n",
        "      print(\"Unsupported\")"
      ],
      "execution_count": null,
      "outputs": []
    },
    {
      "cell_type": "code",
      "metadata": {
        "id": "F8C0isgWFHF2"
      },
      "source": [
        "output=[]\n",
        "a=paragraph.split(\".\")\n",
        "\n",
        "x=len(a)\n",
        "y=int((x-x%5)/5)\n",
        "\n",
        "d=[]\n",
        "for i in range(y):\n",
        "   b=[]\n",
        "   for i in range(5):\n",
        "      b.append(a[i])\n",
        "   c=\"\"\n",
        "   for i in b:\n",
        "      c=c+i+\".\"\n",
        "   d.append(c)\n",
        "   del a[0:5]\n",
        "b=[]\n",
        "for i in range((x%5)):\n",
        "    b.append(a[i])\n",
        "c=\"\"\n",
        "for i in b:\n",
        "    c=c+i+\".\"\n",
        "d.append(c)\n",
        "\n",
        "m=[]\n",
        "paragraph1=\"\"\n",
        "for x in d:\n",
        "  z = summarizer(x)\n",
        "  m.append(z)\n",
        "m.pop()\n",
        "for i in m:\n",
        "  for x in i:\n",
        "    paragraph1=paragraph1+x['summary_text']\n",
        "summary=\"\".join( paragraph1.splitlines())\n",
        "b=headline(paragraph)\n",
        "for i in b:\n",
        "  heading=i['summary_text']"
      ],
      "execution_count": null,
      "outputs": []
    },
    {
      "cell_type": "code",
      "metadata": {
        "id": "IFIowdmwGVMS"
      },
      "source": [
        "print(heading+'\\n')\n",
        "print(summary)"
      ],
      "execution_count": null,
      "outputs": []
    },
    {
      "cell_type": "code",
      "metadata": {
        "id": "JDMYKg5hgqq8"
      },
      "source": [
        "qa_pipeline = pipeline(\n",
        "    \n",
        "    \"question-answering\",\n",
        "    model =\"bert-large-uncased-whole-word-masking-finetuned-squad\",\n",
        "    tokenizer=\"bert-large-uncased-whole-word-masking-finetuned-squad\"\n",
        "    \n",
        ")"
      ],
      "execution_count": null,
      "outputs": []
    },
    {
      "cell_type": "code",
      "metadata": {
        "id": "ZI8UCqpbfvdC"
      },
      "source": [
        "a=input('Do you have any questions regarding input article? (yes/no)')\n",
        "while (a=='yes'):\n",
        "  question=input('Enter your question: ')\n",
        "  predictions = qa_pipeline({\n",
        "                'context' : paragraph,\n",
        "                'question' : question\n",
        "  })\n",
        "  \n",
        "  print(predictions['answer'])\n",
        "  a=input('Do you have any questions regarding input article? (yes/no)')\n",
        "  if (a=='no'):\n",
        "     print(\"Thank you.\")"
      ],
      "execution_count": null,
      "outputs": []
    }
  ]
}